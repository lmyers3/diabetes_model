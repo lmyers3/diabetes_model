{
 "cells": [
  {
   "cell_type": "code",
   "execution_count": 116,
   "id": "46bc47f2",
   "metadata": {},
   "outputs": [],
   "source": [
    "import numpy as np\n",
    "import pandas as pd\n",
    "\n",
    "from datetime import datetime\n",
    "\n",
    "from sklearn.preprocessing import OneHotEncoder"
   ]
  },
  {
   "cell_type": "code",
   "execution_count": 117,
   "id": "6d652a08",
   "metadata": {},
   "outputs": [],
   "source": [
    "#load in data\n",
    "food_df = pd.read_csv(\"Diabetes_Data/log_data_fooddata.csv\")\n",
    "insulin_df = pd.read_csv(\"Diabetes_Data/log_data_insulindata.csv\")\n",
    "corrections_df = pd.read_csv(\"Diabetes_Data/log_data_correctionsdata.csv\")\n",
    "\n",
    "bg_df = pd.read_csv(\"Diabetes_Data/bs_data.csv\")\n",
    "hr_df = pd.read_csv(\"Diabetes_Data/hr_data.csv\")"
   ]
  },
  {
   "cell_type": "code",
   "execution_count": 118,
   "id": "d395e614",
   "metadata": {},
   "outputs": [],
   "source": [
    "insulin_types = ['fiasp', 'regular', 'nph', 'treisba']"
   ]
  },
  {
   "cell_type": "code",
   "execution_count": 119,
   "id": "29875a84",
   "metadata": {},
   "outputs": [],
   "source": [
    "#CLEAN DATA FUNCTIONS\n",
    "def clean_log_times(logname): \n",
    "    #extract date as column\n",
    "    logname['date'] = [pd.Timestamp(k.split(' ')[0]) for k in logname['datetime']]\n",
    "    #extract and clean time as column\n",
    "    logname['time'] = [k.split(' ')[1] for k in logname['datetime']]\n",
    "    logname['hour'] = [int(k.split(':')[0]) for k in logname['time']]\n",
    "    logname['minute'] = [int(k.split(':')[1]) for k in logname['time']]\n",
    "    #drop time and datetime\n",
    "    logname = logname.drop(['time', 'datetime'], axis='columns')\n",
    "\n",
    "    for k in range(len(logname['minute'])):\n",
    "        min = logname['minute'][k]\n",
    "        res = min % 5\n",
    "        logname.at[k, 'minute'] = min-res if res < 3 else min+(5-res)\n",
    "        \n",
    "    logname = logname.groupby(by=['date', 'hour', 'minute']).sum().reset_index()\n",
    "    return logname\n",
    "\n",
    "def clean_sep_date_times(logname):\n",
    "    logname['date'] = pd.to_datetime(logname['date'])\n",
    "    logname['hour'] = [int(k.split(':')[0]) for k in logname['time']]\n",
    "    logname['minute'] = [int(k.split(':')[1]) for k in logname['time']]\n",
    "    logname = logname.drop('time', axis='columns')\n",
    "    return logname\n",
    "\n",
    "def combine_dfs(left_df, right_df):\n",
    "    df = left_df.merge(right_df, on=['date', 'hour', 'minute'], how='left')\n",
    "    df = df.fillna(0)\n",
    "    return df"
   ]
  },
  {
   "cell_type": "code",
   "execution_count": 120,
   "id": "1020704f",
   "metadata": {},
   "outputs": [
    {
     "name": "stdout",
     "output_type": "stream",
     "text": [
      "(5473, 3)\n"
     ]
    }
   ],
   "source": [
    "datetime_list =  pd.date_range(\n",
    "                        start=bg_df.date[len(bg_df)-1],\n",
    "                        end=bg_df.date[0],\n",
    "                        freq='5min').to_frame(index=False, name='datetime')\n",
    "\n",
    "datetime_list['date'] = [str(k).split()[0] for k in datetime_list['datetime']]\n",
    "datetime_list['time'] = [str(k).split()[1] for k in datetime_list['datetime']]\n",
    "\n",
    "datetime_list = clean_sep_date_times(datetime_list)\n",
    "datetime_list.drop('datetime', axis='columns', inplace=True)\n",
    "\n",
    "print(datetime_list.shape)"
   ]
  },
  {
   "cell_type": "code",
   "execution_count": 121,
   "id": "591f1ee4",
   "metadata": {},
   "outputs": [],
   "source": [
    "#CLEAN FOOD DATA\n",
    "food_df = clean_log_times(food_df)\n",
    "food_df = food_df.drop(['servingAmount', 'servingId', 'id', 'foodId'], axis='columns')"
   ]
  },
  {
   "cell_type": "code",
   "execution_count": 122,
   "id": "32fc4617",
   "metadata": {},
   "outputs": [],
   "source": [
    "#MERGE DATA\n",
    "df = combine_dfs(datetime_list, food_df)"
   ]
  },
  {
   "cell_type": "code",
   "execution_count": 123,
   "id": "8abca120",
   "metadata": {},
   "outputs": [
    {
     "name": "stdout",
     "output_type": "stream",
     "text": [
      "5473\n"
     ]
    }
   ],
   "source": [
    "print(len(df))\n",
    "\n",
    "#i need to find datetimes that are not in my datetime list"
   ]
  },
  {
   "cell_type": "code",
   "execution_count": 124,
   "id": "3f60effc",
   "metadata": {},
   "outputs": [],
   "source": [
    "#CLEAN BLOOD GLUCOSE DATA\n",
    "bg_df = clean_sep_date_times(bg_df)"
   ]
  },
  {
   "cell_type": "code",
   "execution_count": 125,
   "id": "01e7609a",
   "metadata": {},
   "outputs": [
    {
     "name": "stdout",
     "output_type": "stream",
     "text": [
      "5473\n"
     ]
    }
   ],
   "source": [
    "#MERGE DATA\n",
    "df = combine_dfs(df, bg_df)\n",
    "print(len(df))"
   ]
  },
  {
   "cell_type": "code",
   "execution_count": 126,
   "id": "de5fa1e8",
   "metadata": {},
   "outputs": [],
   "source": [
    "#initialize insulin type cols with 0s\n",
    "for k in insulin_types:\n",
    "    insulin_df[k] = 0\n",
    "\n",
    "#set amounts for each insulin type\n",
    "for k in range(len(insulin_df)):\n",
    "    insulin_df.at[k, insulin_types[insulin_df.at[k, 'insulinId']]] = insulin_df.at[k, 'amount']\n",
    "    \n",
    "\n",
    "\n",
    "#CLEAN INSULIN DATA\n",
    "insulin_df = clean_log_times(insulin_df)\n",
    "insulin_df = insulin_df.drop(['id', 'insulinId', 'amount'], axis='columns')"
   ]
  },
  {
   "cell_type": "code",
   "execution_count": 127,
   "id": "b8dee299",
   "metadata": {},
   "outputs": [
    {
     "data": {
      "text/html": [
       "<div>\n",
       "<style scoped>\n",
       "    .dataframe tbody tr th:only-of-type {\n",
       "        vertical-align: middle;\n",
       "    }\n",
       "\n",
       "    .dataframe tbody tr th {\n",
       "        vertical-align: top;\n",
       "    }\n",
       "\n",
       "    .dataframe thead th {\n",
       "        text-align: right;\n",
       "    }\n",
       "</style>\n",
       "<table border=\"1\" class=\"dataframe\">\n",
       "  <thead>\n",
       "    <tr style=\"text-align: right;\">\n",
       "      <th></th>\n",
       "      <th>date</th>\n",
       "      <th>hour</th>\n",
       "      <th>minute</th>\n",
       "      <th>fiasp</th>\n",
       "      <th>regular</th>\n",
       "      <th>nph</th>\n",
       "      <th>treisba</th>\n",
       "    </tr>\n",
       "  </thead>\n",
       "  <tbody>\n",
       "    <tr>\n",
       "      <th>0</th>\n",
       "      <td>2021-11-22</td>\n",
       "      <td>12</td>\n",
       "      <td>30</td>\n",
       "      <td>0</td>\n",
       "      <td>0</td>\n",
       "      <td>0</td>\n",
       "      <td>14</td>\n",
       "    </tr>\n",
       "    <tr>\n",
       "      <th>1</th>\n",
       "      <td>2021-11-22</td>\n",
       "      <td>13</td>\n",
       "      <td>20</td>\n",
       "      <td>1</td>\n",
       "      <td>0</td>\n",
       "      <td>0</td>\n",
       "      <td>0</td>\n",
       "    </tr>\n",
       "    <tr>\n",
       "      <th>2</th>\n",
       "      <td>2021-11-22</td>\n",
       "      <td>18</td>\n",
       "      <td>40</td>\n",
       "      <td>17</td>\n",
       "      <td>3</td>\n",
       "      <td>2</td>\n",
       "      <td>0</td>\n",
       "    </tr>\n",
       "    <tr>\n",
       "      <th>3</th>\n",
       "      <td>2021-11-22</td>\n",
       "      <td>22</td>\n",
       "      <td>5</td>\n",
       "      <td>1</td>\n",
       "      <td>0</td>\n",
       "      <td>0</td>\n",
       "      <td>0</td>\n",
       "    </tr>\n",
       "    <tr>\n",
       "      <th>4</th>\n",
       "      <td>2021-11-23</td>\n",
       "      <td>0</td>\n",
       "      <td>40</td>\n",
       "      <td>1</td>\n",
       "      <td>0</td>\n",
       "      <td>0</td>\n",
       "      <td>0</td>\n",
       "    </tr>\n",
       "    <tr>\n",
       "      <th>...</th>\n",
       "      <td>...</td>\n",
       "      <td>...</td>\n",
       "      <td>...</td>\n",
       "      <td>...</td>\n",
       "      <td>...</td>\n",
       "      <td>...</td>\n",
       "      <td>...</td>\n",
       "    </tr>\n",
       "    <tr>\n",
       "      <th>120</th>\n",
       "      <td>2021-12-10</td>\n",
       "      <td>2</td>\n",
       "      <td>15</td>\n",
       "      <td>2</td>\n",
       "      <td>0</td>\n",
       "      <td>0</td>\n",
       "      <td>0</td>\n",
       "    </tr>\n",
       "    <tr>\n",
       "      <th>121</th>\n",
       "      <td>2021-12-10</td>\n",
       "      <td>15</td>\n",
       "      <td>45</td>\n",
       "      <td>5</td>\n",
       "      <td>0</td>\n",
       "      <td>0</td>\n",
       "      <td>18</td>\n",
       "    </tr>\n",
       "    <tr>\n",
       "      <th>122</th>\n",
       "      <td>2021-12-10</td>\n",
       "      <td>21</td>\n",
       "      <td>20</td>\n",
       "      <td>5</td>\n",
       "      <td>0</td>\n",
       "      <td>0</td>\n",
       "      <td>0</td>\n",
       "    </tr>\n",
       "    <tr>\n",
       "      <th>123</th>\n",
       "      <td>2021-12-11</td>\n",
       "      <td>4</td>\n",
       "      <td>60</td>\n",
       "      <td>7</td>\n",
       "      <td>0</td>\n",
       "      <td>0</td>\n",
       "      <td>0</td>\n",
       "    </tr>\n",
       "    <tr>\n",
       "      <th>124</th>\n",
       "      <td>2021-12-11</td>\n",
       "      <td>6</td>\n",
       "      <td>0</td>\n",
       "      <td>3</td>\n",
       "      <td>0</td>\n",
       "      <td>0</td>\n",
       "      <td>0</td>\n",
       "    </tr>\n",
       "  </tbody>\n",
       "</table>\n",
       "<p>125 rows × 7 columns</p>\n",
       "</div>"
      ],
      "text/plain": [
       "          date  hour  minute  fiasp  regular  nph  treisba\n",
       "0   2021-11-22    12      30      0        0    0       14\n",
       "1   2021-11-22    13      20      1        0    0        0\n",
       "2   2021-11-22    18      40     17        3    2        0\n",
       "3   2021-11-22    22       5      1        0    0        0\n",
       "4   2021-11-23     0      40      1        0    0        0\n",
       "..         ...   ...     ...    ...      ...  ...      ...\n",
       "120 2021-12-10     2      15      2        0    0        0\n",
       "121 2021-12-10    15      45      5        0    0       18\n",
       "122 2021-12-10    21      20      5        0    0        0\n",
       "123 2021-12-11     4      60      7        0    0        0\n",
       "124 2021-12-11     6       0      3        0    0        0\n",
       "\n",
       "[125 rows x 7 columns]"
      ]
     },
     "execution_count": 127,
     "metadata": {},
     "output_type": "execute_result"
    }
   ],
   "source": [
    "insulin_df\n",
    "    \n"
   ]
  },
  {
   "cell_type": "code",
   "execution_count": 128,
   "id": "79fac672",
   "metadata": {},
   "outputs": [
    {
     "name": "stdout",
     "output_type": "stream",
     "text": [
      "5473\n"
     ]
    }
   ],
   "source": [
    "#MERGE DATA\n",
    "df = combine_dfs(df, insulin_df)\n",
    "print(len(df))"
   ]
  },
  {
   "cell_type": "code",
   "execution_count": 129,
   "id": "bb4f32fd",
   "metadata": {},
   "outputs": [],
   "source": [
    "#CLEAN CORRECTIONS DATA\n",
    "corrections_df = clean_log_times(corrections_df)\n",
    "corrections_df = corrections_df.drop(['id', 'correctionId'], axis='columns')\n",
    "\n",
    "corrections_df.rename(columns={'amount': 'corrs_amount'}, inplace=True)"
   ]
  },
  {
   "cell_type": "code",
   "execution_count": 130,
   "id": "7b7ef7a0",
   "metadata": {},
   "outputs": [
    {
     "name": "stdout",
     "output_type": "stream",
     "text": [
      "5473\n"
     ]
    }
   ],
   "source": [
    "#MERGE DATA\n",
    "df = combine_dfs(df, corrections_df)\n",
    "print(len(df))"
   ]
  },
  {
   "cell_type": "code",
   "execution_count": 131,
   "id": "4fd7729a",
   "metadata": {},
   "outputs": [],
   "source": [
    "#CLEAN HEART RATE DATA\n",
    "hr_df = clean_sep_date_times(hr_df)"
   ]
  },
  {
   "cell_type": "code",
   "execution_count": 132,
   "id": "2262d056",
   "metadata": {},
   "outputs": [
    {
     "name": "stdout",
     "output_type": "stream",
     "text": [
      "5473\n"
     ]
    }
   ],
   "source": [
    "#MERGE DATA\n",
    "df = combine_dfs(df, hr_df)\n",
    "df['weekday'] = [k.day_name() for k in df['date']]\n",
    "print(len(df))"
   ]
  },
  {
   "cell_type": "code",
   "execution_count": 133,
   "id": "bd3c5d2e",
   "metadata": {},
   "outputs": [
    {
     "name": "stdout",
     "output_type": "stream",
     "text": [
      "5473\n",
      "5473\n"
     ]
    }
   ],
   "source": [
    "print(len(df))\n",
    "print(len(datetime_list))"
   ]
  },
  {
   "cell_type": "code",
   "execution_count": 134,
   "id": "5e6b1c1f",
   "metadata": {},
   "outputs": [],
   "source": [
    "df.to_csv('clean_data.csv')"
   ]
  },
  {
   "cell_type": "code",
   "execution_count": null,
   "id": "da654235",
   "metadata": {},
   "outputs": [],
   "source": []
  }
 ],
 "metadata": {
  "kernelspec": {
   "display_name": "Python 3 (ipykernel)",
   "language": "python",
   "name": "python3"
  },
  "language_info": {
   "codemirror_mode": {
    "name": "ipython",
    "version": 3
   },
   "file_extension": ".py",
   "mimetype": "text/x-python",
   "name": "python",
   "nbconvert_exporter": "python",
   "pygments_lexer": "ipython3",
   "version": "3.9.7"
  }
 },
 "nbformat": 4,
 "nbformat_minor": 5
}
