{
 "cells": [
  {
   "cell_type": "code",
   "execution_count": 24,
   "id": "2edd7303",
   "metadata": {},
   "outputs": [],
   "source": [
    "import tensorflow as tf\n",
    "from tensorflow import keras\n",
    "from tensorflow.keras import layers"
   ]
  },
  {
   "cell_type": "code",
   "execution_count": 45,
   "id": "57c7e3da",
   "metadata": {},
   "outputs": [],
   "source": [
    "import pandas as pd\n",
    "import numpy as np\n",
    "from sklearn.model_selection import train_test_split\n",
    "from sklearn.metrics import mean_squared_error\n"
   ]
  },
  {
   "cell_type": "code",
   "execution_count": 82,
   "id": "b1549bcf",
   "metadata": {},
   "outputs": [],
   "source": [
    "#PREPROCESS DATA\n",
    "df = pd.read_csv('clean_data.csv')\n",
    "df = df.drop(['Unnamed: 0', 'BS_trend', 'date', 'hour', 'minute'], axis='columns')\n",
    "\n",
    "df = pd.get_dummies(df, columns=['weekday'])"
   ]
  },
  {
   "cell_type": "code",
   "execution_count": 83,
   "id": "bca2afb4",
   "metadata": {},
   "outputs": [],
   "source": [
    "\n",
    "X = df.drop('BS', axis='columns')\n",
    "y = df['BS']"
   ]
  },
  {
   "cell_type": "code",
   "execution_count": 84,
   "id": "e2cf613a",
   "metadata": {},
   "outputs": [],
   "source": [
    "X_train, X_test, y_train, y_test = train_test_split(X, y, test_size=0.2, shuffle=False)"
   ]
  },
  {
   "cell_type": "code",
   "execution_count": 91,
   "id": "a15e0164",
   "metadata": {},
   "outputs": [
    {
     "data": {
      "text/plain": [
       "(4378, 19)"
      ]
     },
     "execution_count": 91,
     "metadata": {},
     "output_type": "execute_result"
    }
   ],
   "source": [
    "X_train.shape"
   ]
  },
  {
   "cell_type": "code",
   "execution_count": 92,
   "id": "51c4caa5",
   "metadata": {},
   "outputs": [],
   "source": [
    "model = tf.keras.Sequential([\n",
    "    layers.Dense(1, activation='relu')\n",
    "])"
   ]
  },
  {
   "cell_type": "code",
   "execution_count": 93,
   "id": "18129b12",
   "metadata": {},
   "outputs": [
    {
     "name": "stdout",
     "output_type": "stream",
     "text": [
      "Model: \"sequential_13\"\n",
      "_________________________________________________________________\n",
      "Layer (type)                 Output Shape              Param #   \n",
      "=================================================================\n",
      "dense_7 (Dense)              (4378, 1)                 20        \n",
      "=================================================================\n",
      "Total params: 20\n",
      "Trainable params: 20\n",
      "Non-trainable params: 0\n",
      "_________________________________________________________________\n"
     ]
    }
   ],
   "source": [
    "model.compile(loss='mean_absolute_error', optimizer='adam')\n",
    "model(X_train.to_numpy())\n",
    "model.summary()"
   ]
  },
  {
   "cell_type": "code",
   "execution_count": 94,
   "id": "fe225aca",
   "metadata": {},
   "outputs": [
    {
     "name": "stdout",
     "output_type": "stream",
     "text": [
      "Epoch 1/100\n",
      "110/110 [==============================] - 0s 2ms/step - loss: 110.8174 - val_loss: 86.3053\n",
      "Epoch 2/100\n",
      "110/110 [==============================] - 0s 903us/step - loss: 103.1605 - val_loss: 78.0922\n",
      "Epoch 3/100\n",
      "110/110 [==============================] - 0s 850us/step - loss: 95.4566 - val_loss: 69.8962\n",
      "Epoch 4/100\n",
      "110/110 [==============================] - 0s 891us/step - loss: 87.7954 - val_loss: 62.0315\n",
      "Epoch 5/100\n",
      "110/110 [==============================] - 0s 887us/step - loss: 80.2398 - val_loss: 54.9572\n",
      "Epoch 6/100\n",
      "110/110 [==============================] - 0s 856us/step - loss: 73.0591 - val_loss: 48.6032\n",
      "Epoch 7/100\n",
      "110/110 [==============================] - 0s 916us/step - loss: 66.4417 - val_loss: 43.1029\n",
      "Epoch 8/100\n",
      "110/110 [==============================] - 0s 978us/step - loss: 60.7643 - val_loss: 38.8434\n",
      "Epoch 9/100\n",
      "110/110 [==============================] - 0s 899us/step - loss: 56.2724 - val_loss: 35.5773\n",
      "Epoch 10/100\n",
      "110/110 [==============================] - 0s 867us/step - loss: 52.7216 - val_loss: 33.1925\n",
      "Epoch 11/100\n",
      "110/110 [==============================] - 0s 900us/step - loss: 50.0057 - val_loss: 31.7595\n",
      "Epoch 12/100\n",
      "110/110 [==============================] - 0s 904us/step - loss: 48.0461 - val_loss: 31.1178\n",
      "Epoch 13/100\n",
      "110/110 [==============================] - 0s 970us/step - loss: 46.7117 - val_loss: 31.0265\n",
      "Epoch 14/100\n",
      "110/110 [==============================] - 0s 894us/step - loss: 45.7923 - val_loss: 31.2651\n",
      "Epoch 15/100\n",
      "110/110 [==============================] - 0s 867us/step - loss: 45.1290 - val_loss: 31.8014\n",
      "Epoch 16/100\n",
      "110/110 [==============================] - 0s 860us/step - loss: 44.6634 - val_loss: 32.4578\n",
      "Epoch 17/100\n",
      "110/110 [==============================] - 0s 912us/step - loss: 44.3219 - val_loss: 33.0986\n",
      "Epoch 18/100\n",
      "110/110 [==============================] - 0s 878us/step - loss: 44.1182 - val_loss: 33.6889\n",
      "Epoch 19/100\n",
      "110/110 [==============================] - 0s 896us/step - loss: 43.9900 - val_loss: 34.1369\n",
      "Epoch 20/100\n",
      "110/110 [==============================] - 0s 916us/step - loss: 43.9372 - val_loss: 34.5197\n",
      "Epoch 21/100\n",
      "110/110 [==============================] - 0s 865us/step - loss: 43.8799 - val_loss: 34.7772\n",
      "Epoch 22/100\n",
      "110/110 [==============================] - 0s 877us/step - loss: 43.8490 - val_loss: 35.0504\n",
      "Epoch 23/100\n",
      "110/110 [==============================] - 0s 850us/step - loss: 43.8228 - val_loss: 35.2293\n",
      "Epoch 24/100\n",
      "110/110 [==============================] - 0s 976us/step - loss: 43.8084 - val_loss: 35.3473\n",
      "Epoch 25/100\n",
      "110/110 [==============================] - 0s 1ms/step - loss: 43.7920 - val_loss: 35.4805\n",
      "Epoch 26/100\n",
      "110/110 [==============================] - 0s 844us/step - loss: 43.7754 - val_loss: 35.5423\n",
      "Epoch 27/100\n",
      "110/110 [==============================] - 0s 837us/step - loss: 43.7731 - val_loss: 35.5598\n",
      "Epoch 28/100\n",
      "110/110 [==============================] - 0s 891us/step - loss: 43.7411 - val_loss: 35.6386\n",
      "Epoch 29/100\n",
      "110/110 [==============================] - 0s 856us/step - loss: 43.7450 - val_loss: 35.7161\n",
      "Epoch 30/100\n",
      "110/110 [==============================] - ETA: 0s - loss: 43.79 - 0s 836us/step - loss: 43.7244 - val_loss: 35.7713\n",
      "Epoch 31/100\n",
      "110/110 [==============================] - 0s 846us/step - loss: 43.7140 - val_loss: 35.6848\n",
      "Epoch 32/100\n",
      "110/110 [==============================] - 0s 972us/step - loss: 43.6995 - val_loss: 35.6293\n",
      "Epoch 33/100\n",
      "110/110 [==============================] - 0s 905us/step - loss: 43.6829 - val_loss: 35.6096\n",
      "Epoch 34/100\n",
      "110/110 [==============================] - 0s 829us/step - loss: 43.6763 - val_loss: 35.6470\n",
      "Epoch 35/100\n",
      "110/110 [==============================] - 0s 854us/step - loss: 43.6706 - val_loss: 35.5923\n",
      "Epoch 36/100\n",
      "110/110 [==============================] - 0s 866us/step - loss: 43.6508 - val_loss: 35.6730\n",
      "Epoch 37/100\n",
      "110/110 [==============================] - 0s 828us/step - loss: 43.6282 - val_loss: 35.6363\n",
      "Epoch 38/100\n",
      "110/110 [==============================] - 0s 853us/step - loss: 43.6098 - val_loss: 35.5800\n",
      "Epoch 39/100\n",
      "110/110 [==============================] - 0s 824us/step - loss: 43.5992 - val_loss: 35.5896\n",
      "Epoch 40/100\n",
      "110/110 [==============================] - 0s 873us/step - loss: 43.5867 - val_loss: 35.7176\n",
      "Epoch 41/100\n",
      "110/110 [==============================] - 0s 987us/step - loss: 43.5740 - val_loss: 35.6120\n",
      "Epoch 42/100\n",
      "110/110 [==============================] - 0s 975us/step - loss: 43.5556 - val_loss: 35.6859\n",
      "Epoch 43/100\n",
      "110/110 [==============================] - 0s 855us/step - loss: 43.5465 - val_loss: 35.6020\n",
      "Epoch 44/100\n",
      "110/110 [==============================] - 0s 874us/step - loss: 43.5219 - val_loss: 35.4686\n",
      "Epoch 45/100\n",
      "110/110 [==============================] - 0s 815us/step - loss: 43.5096 - val_loss: 35.6186\n",
      "Epoch 46/100\n",
      "110/110 [==============================] - 0s 859us/step - loss: 43.4900 - val_loss: 35.6724\n",
      "Epoch 47/100\n",
      "110/110 [==============================] - 0s 842us/step - loss: 43.4788 - val_loss: 35.5118\n",
      "Epoch 48/100\n",
      "110/110 [==============================] - 0s 838us/step - loss: 43.4601 - val_loss: 35.5371\n",
      "Epoch 49/100\n",
      "110/110 [==============================] - 0s 840us/step - loss: 43.4583 - val_loss: 35.3869\n",
      "Epoch 50/100\n",
      "110/110 [==============================] - 0s 860us/step - loss: 43.4203 - val_loss: 35.3849\n",
      "Epoch 51/100\n",
      "110/110 [==============================] - 0s 827us/step - loss: 43.4164 - val_loss: 35.3893\n",
      "Epoch 52/100\n",
      "110/110 [==============================] - 0s 857us/step - loss: 43.3981 - val_loss: 35.4276\n",
      "Epoch 53/100\n",
      "110/110 [==============================] - 0s 866us/step - loss: 43.3776 - val_loss: 35.5175\n",
      "Epoch 54/100\n",
      "110/110 [==============================] - 0s 815us/step - loss: 43.3534 - val_loss: 35.4410\n",
      "Epoch 55/100\n",
      "110/110 [==============================] - 0s 823us/step - loss: 43.3580 - val_loss: 35.3810\n",
      "Epoch 56/100\n",
      "110/110 [==============================] - 0s 838us/step - loss: 43.3275 - val_loss: 35.2764\n",
      "Epoch 57/100\n",
      "110/110 [==============================] - 0s 815us/step - loss: 43.3137 - val_loss: 35.3204\n",
      "Epoch 58/100\n",
      "110/110 [==============================] - 0s 811us/step - loss: 43.2977 - val_loss: 35.3438\n",
      "Epoch 59/100\n",
      "110/110 [==============================] - 0s 851us/step - loss: 43.2816 - val_loss: 35.3938\n",
      "Epoch 60/100\n",
      "110/110 [==============================] - 0s 820us/step - loss: 43.2663 - val_loss: 35.4083\n",
      "Epoch 61/100\n",
      "110/110 [==============================] - 0s 849us/step - loss: 43.2443 - val_loss: 35.3252\n",
      "Epoch 62/100\n",
      "110/110 [==============================] - 0s 810us/step - loss: 43.2288 - val_loss: 35.3202\n",
      "Epoch 63/100\n",
      "110/110 [==============================] - 0s 857us/step - loss: 43.2215 - val_loss: 35.3954\n",
      "Epoch 64/100\n",
      "110/110 [==============================] - 0s 853us/step - loss: 43.1959 - val_loss: 35.2518\n",
      "Epoch 65/100\n",
      "110/110 [==============================] - 0s 827us/step - loss: 43.1882 - val_loss: 35.3602\n",
      "Epoch 66/100\n",
      "110/110 [==============================] - 0s 828us/step - loss: 43.1672 - val_loss: 35.2132\n",
      "Epoch 67/100\n",
      "110/110 [==============================] - 0s 973us/step - loss: 43.1443 - val_loss: 35.0942\n",
      "Epoch 68/100\n",
      "110/110 [==============================] - 0s 916us/step - loss: 43.1276 - val_loss: 35.2444\n",
      "Epoch 69/100\n",
      "110/110 [==============================] - 0s 822us/step - loss: 43.1152 - val_loss: 35.1379\n",
      "Epoch 70/100\n",
      "110/110 [==============================] - 0s 818us/step - loss: 43.0937 - val_loss: 35.2385\n",
      "Epoch 71/100\n",
      "110/110 [==============================] - 0s 815us/step - loss: 43.0832 - val_loss: 35.2314\n",
      "Epoch 72/100\n",
      "110/110 [==============================] - 0s 823us/step - loss: 43.0662 - val_loss: 35.2420\n",
      "Epoch 73/100\n",
      "110/110 [==============================] - 0s 835us/step - loss: 43.0477 - val_loss: 35.0945\n",
      "Epoch 74/100\n",
      "110/110 [==============================] - 0s 831us/step - loss: 43.0342 - val_loss: 35.2090\n",
      "Epoch 75/100\n",
      "110/110 [==============================] - 0s 778us/step - loss: 43.0115 - val_loss: 35.1607\n",
      "Epoch 76/100\n",
      "110/110 [==============================] - 0s 801us/step - loss: 42.9982 - val_loss: 35.0175\n",
      "Epoch 77/100\n",
      "110/110 [==============================] - 0s 889us/step - loss: 42.9863 - val_loss: 35.0506\n",
      "Epoch 78/100\n"
     ]
    },
    {
     "name": "stdout",
     "output_type": "stream",
     "text": [
      "110/110 [==============================] - 0s 810us/step - loss: 42.9652 - val_loss: 35.1322\n",
      "Epoch 79/100\n",
      "110/110 [==============================] - 0s 779us/step - loss: 42.9618 - val_loss: 35.2188\n",
      "Epoch 80/100\n",
      "110/110 [==============================] - 0s 948us/step - loss: 42.9350 - val_loss: 35.1158\n",
      "Epoch 81/100\n",
      "110/110 [==============================] - 0s 871us/step - loss: 42.9236 - val_loss: 34.9790\n",
      "Epoch 82/100\n",
      "110/110 [==============================] - 0s 841us/step - loss: 42.8999 - val_loss: 35.0283\n",
      "Epoch 83/100\n",
      "110/110 [==============================] - 0s 830us/step - loss: 42.8788 - val_loss: 35.0878\n",
      "Epoch 84/100\n",
      "110/110 [==============================] - 0s 850us/step - loss: 42.8616 - val_loss: 35.0032\n",
      "Epoch 85/100\n",
      "110/110 [==============================] - 0s 893us/step - loss: 42.8444 - val_loss: 34.9932\n",
      "Epoch 86/100\n",
      "110/110 [==============================] - 0s 893us/step - loss: 42.8361 - val_loss: 35.0564\n",
      "Epoch 87/100\n",
      "110/110 [==============================] - 0s 870us/step - loss: 42.8124 - val_loss: 35.1729\n",
      "Epoch 88/100\n",
      "110/110 [==============================] - 0s 856us/step - loss: 42.8016 - val_loss: 35.1131\n",
      "Epoch 89/100\n",
      "110/110 [==============================] - 0s 879us/step - loss: 42.7792 - val_loss: 35.0920\n",
      "Epoch 90/100\n",
      "110/110 [==============================] - 0s 896us/step - loss: 42.7646 - val_loss: 35.0533\n",
      "Epoch 91/100\n",
      "110/110 [==============================] - 0s 871us/step - loss: 42.7521 - val_loss: 35.0161\n",
      "Epoch 92/100\n",
      "110/110 [==============================] - 0s 824us/step - loss: 42.7291 - val_loss: 34.8896\n",
      "Epoch 93/100\n",
      "110/110 [==============================] - 0s 892us/step - loss: 42.7199 - val_loss: 34.9352\n",
      "Epoch 94/100\n",
      "110/110 [==============================] - 0s 893us/step - loss: 42.6971 - val_loss: 34.9266\n",
      "Epoch 95/100\n",
      "110/110 [==============================] - 0s 853us/step - loss: 42.6753 - val_loss: 34.8937\n",
      "Epoch 96/100\n",
      "110/110 [==============================] - 0s 867us/step - loss: 42.6748 - val_loss: 35.0202\n",
      "Epoch 97/100\n",
      "110/110 [==============================] - 0s 887us/step - loss: 42.6544 - val_loss: 34.8237\n",
      "Epoch 98/100\n",
      "110/110 [==============================] - 0s 927us/step - loss: 42.6386 - val_loss: 34.8396\n",
      "Epoch 99/100\n",
      "110/110 [==============================] - 0s 854us/step - loss: 42.6277 - val_loss: 34.8448\n",
      "Epoch 100/100\n",
      "110/110 [==============================] - 0s 892us/step - loss: 42.6088 - val_loss: 34.8062\n"
     ]
    }
   ],
   "source": [
    "history = model.fit(x=X_train,y=y_train, epochs=100, batch_size=32, validation_split=0.2)"
   ]
  },
  {
   "cell_type": "code",
   "execution_count": 71,
   "id": "ea62910c",
   "metadata": {},
   "outputs": [
    {
     "data": {
      "text/plain": [
       "array([[132.23705],\n",
       "       [130.34818],\n",
       "       [131.76485],\n",
       "       [131.76485],\n",
       "       [132.70927],\n",
       "       [133.18146],\n",
       "       [133.65369],\n",
       "       [132.70927],\n",
       "       [132.23705],\n",
       "       [132.23705]], dtype=float32)"
      ]
     },
     "execution_count": 71,
     "metadata": {},
     "output_type": "execute_result"
    }
   ],
   "source": [
    "predicted = model.predict(X_test)\n",
    "predicted[:10]"
   ]
  },
  {
   "cell_type": "code",
   "execution_count": 72,
   "id": "97e37a87",
   "metadata": {},
   "outputs": [
    {
     "data": {
      "text/plain": [
       "4378    106.0\n",
       "4379    104.0\n",
       "4380    101.0\n",
       "4381    102.0\n",
       "4382    104.0\n",
       "4383    111.0\n",
       "4384    122.0\n",
       "4385    131.0\n",
       "4386    132.0\n",
       "4387    126.0\n",
       "Name: BS, dtype: float64"
      ]
     },
     "execution_count": 72,
     "metadata": {},
     "output_type": "execute_result"
    }
   ],
   "source": [
    "y_test[:10]"
   ]
  },
  {
   "cell_type": "code",
   "execution_count": 73,
   "id": "520a1946",
   "metadata": {},
   "outputs": [
    {
     "data": {
      "text/plain": [
       "1383.5147162499059"
      ]
     },
     "execution_count": 73,
     "metadata": {},
     "output_type": "execute_result"
    }
   ],
   "source": [
    "mean_squared_error(y_test, predicted)"
   ]
  },
  {
   "cell_type": "code",
   "execution_count": null,
   "id": "71f71bc4",
   "metadata": {},
   "outputs": [],
   "source": []
  }
 ],
 "metadata": {
  "kernelspec": {
   "display_name": "Python 3 (ipykernel)",
   "language": "python",
   "name": "python3"
  },
  "language_info": {
   "codemirror_mode": {
    "name": "ipython",
    "version": 3
   },
   "file_extension": ".py",
   "mimetype": "text/x-python",
   "name": "python",
   "nbconvert_exporter": "python",
   "pygments_lexer": "ipython3",
   "version": "3.9.7"
  }
 },
 "nbformat": 4,
 "nbformat_minor": 5
}
