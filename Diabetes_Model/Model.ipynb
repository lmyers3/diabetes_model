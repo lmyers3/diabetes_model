{
 "cells": [
  {
   "cell_type": "code",
   "execution_count": 1,
   "id": "2edd7303",
   "metadata": {},
   "outputs": [
    {
     "data": {
      "text/plain": [
       "'2.6.0'"
      ]
     },
     "execution_count": 1,
     "metadata": {},
     "output_type": "execute_result"
    }
   ],
   "source": [
    "import tensorflow as tf\n",
    "from tensorflow import keras\n",
    "from tensorflow.keras import layers\n",
    "\n",
    "from keras.preprocessing.sequence import TimeseriesGenerator\n",
    "\n",
    "tf.__version__"
   ]
  },
  {
   "cell_type": "code",
   "execution_count": 2,
   "id": "57c7e3da",
   "metadata": {},
   "outputs": [],
   "source": [
    "import pandas as pd\n",
    "import numpy as np\n",
    "\n",
    "import matplotlib.pyplot as plt\n",
    "\n",
    "from sklearn.model_selection import train_test_split\n",
    "from sklearn.metrics import mean_squared_error\n",
    "from sklearn.metrics import r2_score\n",
    "from sklearn.preprocessing import StandardScaler, MinMaxScaler"
   ]
  },
  {
   "cell_type": "code",
   "execution_count": 3,
   "id": "b1549bcf",
   "metadata": {},
   "outputs": [],
   "source": [
    "#PREPROCESS DATA\n",
    "df = pd.read_csv('clean_data.csv')\n",
    "df = df.drop(['Unnamed: 0', 'BS_trend', 'date', 'hour', 'minute'], axis='columns')\n",
    "\n",
    "df = pd.get_dummies(df, columns=['weekday'])"
   ]
  },
  {
   "cell_type": "code",
   "execution_count": 4,
   "id": "bca2afb4",
   "metadata": {},
   "outputs": [],
   "source": [
    "#scale data\n",
    "scaler = MinMaxScaler()\n",
    "\n",
    "df_scaled = scaler.fit_transform(df)"
   ]
  },
  {
   "cell_type": "code",
   "execution_count": 5,
   "id": "e2cf613a",
   "metadata": {},
   "outputs": [],
   "source": [
    "X = df_scaled\n",
    "y = scaler.fit_transform(df['BS'].values.reshape(-1,1))\n",
    "\n",
    "X_train, X_test, y_train, y_test = train_test_split(X, y, test_size=0.2, shuffle=False)\n",
    "\n"
   ]
  },
  {
   "cell_type": "code",
   "execution_count": 6,
   "id": "bbbdaef0",
   "metadata": {},
   "outputs": [],
   "source": [
    "#remove records from data to create tensors\n",
    "#X_train_minmax = X_train_minmax[:len(X_train_minmax)-10]\n",
    "#y_train = y_train[:len(X_train_minmax)]"
   ]
  },
  {
   "cell_type": "code",
   "execution_count": 7,
   "id": "1672acdb",
   "metadata": {},
   "outputs": [],
   "source": [
    "#X_train_minmax = X_train_minmax.reshape(364, 12, 19)\n",
    "#X_test_minmax = X_test_minmax.reshape(182,24,19)"
   ]
  },
  {
   "cell_type": "code",
   "execution_count": 8,
   "id": "a29a2a2a",
   "metadata": {},
   "outputs": [],
   "source": [
    "n_input = 24\n",
    "n_features = 20\n",
    "train_generator = TimeseriesGenerator(X_train, y_train,sampling_rate=1, length=n_input, batch_size=32)\n",
    "test_generator = TimeseriesGenerator(X_test, y_test,sampling_rate=1, length=n_input, batch_size=32)\n",
    "\n",
    "# print(len(generator))\n",
    "# batch_0 = generator[3]\n",
    "# x, y = batch_0\n",
    "\n",
    "# print(\"THIS IS X\")\n",
    "# print(x[0])\n",
    "# print(\"THIS IS Y\")\n",
    "# print(y)\n"
   ]
  },
  {
   "cell_type": "code",
   "execution_count": 9,
   "id": "51c4caa5",
   "metadata": {},
   "outputs": [],
   "source": [
    "\n",
    "\n",
    "model = tf.keras.Sequential(\n",
    "    [\n",
    "        layers.LSTM(100, \n",
    "            input_shape=(n_input, n_features),\n",
    "            activation='relu',\n",
    "            dropout=0.1,\n",
    "            recurrent_dropout=0.5,\n",
    "            return_sequences=True),\n",
    "        layers.LSTM(100, \n",
    "            activation='relu',\n",
    "            dropout=0.1,\n",
    "            recurrent_dropout=0.5,\n",
    "            return_sequences=True),\n",
    "        layers.LSTM(75,\n",
    "            activation='relu',\n",
    "            dropout=0.1,\n",
    "            recurrent_dropout=0.5,\n",
    "            return_sequences=True),\n",
    "        layers.LSTM(25,\n",
    "            activation='relu',\n",
    "            dropout=0.1,\n",
    "            recurrent_dropout=0.5,\n",
    "            return_sequences=False),\n",
    "        layers.Dense(1, activation='relu', dtype='float64')\n",
    "    ]\n",
    ")\n",
    "\n"
   ]
  },
  {
   "cell_type": "code",
   "execution_count": 10,
   "id": "18129b12",
   "metadata": {},
   "outputs": [],
   "source": [
    "early_stopping = tf.keras.callbacks.EarlyStopping(monitor='val_loss',\n",
    "                                                  patience=2,\n",
    "                                                  mode='min')\n",
    "model.compile(loss='mae', optimizer='adam')\n",
    "#model(X_train_minmax)\n",
    "#model.summary()"
   ]
  },
  {
   "cell_type": "code",
   "execution_count": 11,
   "id": "fe225aca",
   "metadata": {},
   "outputs": [
    {
     "name": "stdout",
     "output_type": "stream",
     "text": [
      "Epoch 1/50\n",
      "137/137 [==============================] - 51s 242ms/step - loss: 0.1430 - val_loss: 0.1397\n",
      "Epoch 2/50\n",
      "137/137 [==============================] - 32s 231ms/step - loss: 0.1366 - val_loss: 0.1132\n",
      "Epoch 3/50\n",
      "137/137 [==============================] - 32s 231ms/step - loss: 0.1140 - val_loss: 0.1230\n",
      "Epoch 4/50\n",
      "137/137 [==============================] - 32s 230ms/step - loss: 0.1055 - val_loss: 0.1499\n",
      "Epoch 5/50\n",
      "137/137 [==============================] - 31s 229ms/step - loss: 0.1090 - val_loss: 0.1311\n",
      "Epoch 6/50\n",
      "137/137 [==============================] - 32s 230ms/step - loss: 0.0996 - val_loss: 0.1059\n",
      "Epoch 7/50\n",
      "137/137 [==============================] - 32s 230ms/step - loss: 0.0905 - val_loss: 0.1079\n",
      "Epoch 8/50\n",
      "137/137 [==============================] - 32s 232ms/step - loss: 0.0890 - val_loss: 0.0828\n",
      "Epoch 9/50\n",
      "137/137 [==============================] - 31s 229ms/step - loss: 0.0814 - val_loss: 0.0788\n",
      "Epoch 10/50\n",
      "137/137 [==============================] - 31s 229ms/step - loss: 0.0788 - val_loss: 0.0999\n",
      "Epoch 11/50\n",
      "137/137 [==============================] - 33s 243ms/step - loss: 0.0738 - val_loss: 0.0702\n",
      "Epoch 12/50\n",
      "137/137 [==============================] - 33s 241ms/step - loss: 0.0729 - val_loss: 0.0662\n",
      "Epoch 13/50\n",
      "137/137 [==============================] - 31s 229ms/step - loss: 0.0660 - val_loss: 0.0715\n",
      "Epoch 14/50\n",
      "137/137 [==============================] - 32s 234ms/step - loss: 0.0634 - val_loss: 0.0799\n",
      "Epoch 15/50\n",
      "137/137 [==============================] - 32s 230ms/step - loss: 0.0639 - val_loss: 0.0718\n",
      "Epoch 16/50\n",
      "137/137 [==============================] - 32s 231ms/step - loss: 0.0653 - val_loss: 0.1021\n",
      "Epoch 17/50\n",
      "137/137 [==============================] - 31s 229ms/step - loss: 0.0649 - val_loss: 0.0562\n",
      "Epoch 18/50\n",
      "137/137 [==============================] - 31s 229ms/step - loss: 0.0573 - val_loss: 0.0574\n",
      "Epoch 19/50\n",
      "137/137 [==============================] - 31s 229ms/step - loss: 0.0568 - val_loss: 0.0567\n",
      "Epoch 20/50\n",
      "137/137 [==============================] - 31s 228ms/step - loss: 0.0543 - val_loss: 0.0705\n",
      "Epoch 21/50\n",
      "137/137 [==============================] - 32s 230ms/step - loss: 0.0522 - val_loss: 0.0830\n",
      "Epoch 22/50\n",
      "137/137 [==============================] - 31s 229ms/step - loss: 0.0558 - val_loss: 0.0588\n",
      "Epoch 23/50\n",
      "137/137 [==============================] - 31s 228ms/step - loss: 0.0503 - val_loss: 0.0671\n",
      "Epoch 24/50\n",
      "137/137 [==============================] - 31s 228ms/step - loss: 0.0494 - val_loss: 0.0577\n",
      "Epoch 25/50\n",
      "137/137 [==============================] - 31s 228ms/step - loss: 0.0477 - val_loss: 0.0640\n",
      "Epoch 26/50\n",
      "137/137 [==============================] - 31s 229ms/step - loss: 0.0493 - val_loss: 0.0686\n",
      "Epoch 27/50\n",
      "137/137 [==============================] - 31s 228ms/step - loss: 0.0474 - val_loss: 0.0568\n",
      "Epoch 28/50\n",
      "137/137 [==============================] - 32s 230ms/step - loss: 0.0486 - val_loss: 0.0543\n",
      "Epoch 29/50\n",
      "137/137 [==============================] - 32s 229ms/step - loss: 0.0453 - val_loss: 0.0480\n",
      "Epoch 30/50\n",
      "137/137 [==============================] - 32s 233ms/step - loss: 0.0439 - val_loss: 0.0491\n",
      "Epoch 31/50\n",
      "137/137 [==============================] - 31s 227ms/step - loss: 0.0443 - val_loss: 0.0631\n",
      "Epoch 32/50\n",
      "137/137 [==============================] - 31s 228ms/step - loss: 0.0437 - val_loss: 0.0419\n",
      "Epoch 33/50\n",
      "137/137 [==============================] - 31s 228ms/step - loss: 0.0418 - val_loss: 0.0440\n",
      "Epoch 34/50\n",
      "137/137 [==============================] - 31s 228ms/step - loss: 0.0424 - val_loss: 0.0858\n",
      "Epoch 35/50\n",
      "137/137 [==============================] - 31s 227ms/step - loss: 0.0446 - val_loss: 0.0738\n",
      "Epoch 36/50\n",
      "137/137 [==============================] - 31s 228ms/step - loss: 0.0437 - val_loss: 0.0640\n",
      "Epoch 37/50\n",
      "137/137 [==============================] - 31s 229ms/step - loss: 0.0450 - val_loss: 0.0528\n",
      "Epoch 38/50\n",
      "137/137 [==============================] - 31s 227ms/step - loss: 0.0407 - val_loss: 0.0571\n",
      "Epoch 39/50\n",
      "137/137 [==============================] - 31s 227ms/step - loss: 0.0388 - val_loss: 0.0880\n",
      "Epoch 40/50\n",
      "137/137 [==============================] - 31s 228ms/step - loss: 0.0395 - val_loss: 0.0809\n",
      "Epoch 41/50\n",
      "137/137 [==============================] - 31s 227ms/step - loss: 0.0394 - val_loss: 0.0820\n",
      "Epoch 42/50\n",
      "137/137 [==============================] - 31s 229ms/step - loss: 0.0392 - val_loss: 0.0622\n",
      "Epoch 43/50\n",
      "137/137 [==============================] - 31s 228ms/step - loss: 0.0386 - val_loss: 0.0737\n",
      "Epoch 44/50\n",
      "137/137 [==============================] - 31s 229ms/step - loss: 0.0365 - val_loss: 0.0561\n",
      "Epoch 45/50\n",
      "137/137 [==============================] - 31s 227ms/step - loss: 0.0402 - val_loss: 0.0648\n",
      "Epoch 46/50\n",
      "137/137 [==============================] - 31s 227ms/step - loss: 0.0386 - val_loss: 0.0395\n",
      "Epoch 47/50\n",
      "137/137 [==============================] - 31s 227ms/step - loss: 0.0373 - val_loss: 0.0588\n",
      "Epoch 48/50\n",
      "137/137 [==============================] - 31s 227ms/step - loss: 0.0373 - val_loss: 0.0364\n",
      "Epoch 49/50\n",
      "137/137 [==============================] - 32s 230ms/step - loss: 0.0348 - val_loss: 0.0487\n",
      "Epoch 50/50\n",
      "137/137 [==============================] - 31s 227ms/step - loss: 0.0358 - val_loss: 0.0388\n"
     ]
    }
   ],
   "source": [
    "#history = model.fit(x=X_train_minmax,y=y_train, shuffle=False, epochs=200, batch_size=24, validation_split=0.2)\n",
    "history = model.fit(train_generator, validation_data=test_generator, epochs=50, shuffle=False, batch_size=32)\n",
    "#history = model.fit(x=generator, shuffle=False, epochs=200, batch_size=32)"
   ]
  },
  {
   "cell_type": "code",
   "execution_count": 12,
   "id": "ea62910c",
   "metadata": {},
   "outputs": [
    {
     "data": {
      "text/plain": [
       "4354"
      ]
     },
     "execution_count": 12,
     "metadata": {},
     "output_type": "execute_result"
    }
   ],
   "source": [
    "predicted = model.predict(train_generator)\n",
    "predicted = scaler.inverse_transform(predicted)\n",
    "\n",
    "predicted.shape[0]"
   ]
  },
  {
   "cell_type": "code",
   "execution_count": 13,
   "id": "c4b690a3",
   "metadata": {},
   "outputs": [
    {
     "data": {
      "text/plain": [
       "(4354, 1)"
      ]
     },
     "execution_count": 13,
     "metadata": {},
     "output_type": "execute_result"
    }
   ],
   "source": [
    "predicted.shape"
   ]
  },
  {
   "cell_type": "code",
   "execution_count": 14,
   "id": "97e37a87",
   "metadata": {},
   "outputs": [
    {
     "data": {
      "text/plain": [
       "(4354, 1)"
      ]
     },
     "execution_count": 14,
     "metadata": {},
     "output_type": "execute_result"
    }
   ],
   "source": [
    "y_train = scaler.inverse_transform(y_train)\n",
    "y_train = y_train[n_input:]\n",
    "y_train.shape\n"
   ]
  },
  {
   "cell_type": "code",
   "execution_count": 15,
   "id": "a844fa32",
   "metadata": {},
   "outputs": [
    {
     "data": {
      "text/plain": [
       "0.860139585950831"
      ]
     },
     "execution_count": 15,
     "metadata": {},
     "output_type": "execute_result"
    }
   ],
   "source": [
    "r2_score(y_train, predicted)"
   ]
  },
  {
   "cell_type": "code",
   "execution_count": 16,
   "id": "520a1946",
   "metadata": {},
   "outputs": [
    {
     "data": {
      "text/plain": [
       "237.00346263925218"
      ]
     },
     "execution_count": 16,
     "metadata": {},
     "output_type": "execute_result"
    }
   ],
   "source": [
    "mean_squared_error(y_train, predicted)"
   ]
  },
  {
   "cell_type": "code",
   "execution_count": 17,
   "id": "71f71bc4",
   "metadata": {},
   "outputs": [
    {
     "data": {
      "text/plain": [
       "<matplotlib.legend.Legend at 0x236a3e85370>"
      ]
     },
     "execution_count": 17,
     "metadata": {},
     "output_type": "execute_result"
    },
    {
     "data": {
      "image/png": "[encoded data removed]",
      "text/plain": [
       "<Figure size 432x288 with 1 Axes>"
      ]
     },
     "metadata": {
      "needs_background": "light"
     },
     "output_type": "display_data"
    }
   ],
   "source": [
    "plt.plot(history.history['loss'], label='loss')\n",
    "plt.plot(history.history['val_loss'], label='val_loss')\n",
    "plt.legend()"
   ]
  },
  {
   "cell_type": "code",
   "execution_count": 18,
   "id": "ed1bd347",
   "metadata": {},
   "outputs": [
    {
     "data": {
      "text/html": [
       "<div>\n",
       "<style scoped>\n",
       "    .dataframe tbody tr th:only-of-type {\n",
       "        vertical-align: middle;\n",
       "    }\n",
       "\n",
       "    .dataframe tbody tr th {\n",
       "        vertical-align: top;\n",
       "    }\n",
       "\n",
       "    .dataframe thead th {\n",
       "        text-align: right;\n",
       "    }\n",
       "</style>\n",
       "<table border=\"1\" class=\"dataframe\">\n",
       "  <thead>\n",
       "    <tr style=\"text-align: right;\">\n",
       "      <th></th>\n",
       "      <th>predicted</th>\n",
       "      <th>true</th>\n",
       "    </tr>\n",
       "  </thead>\n",
       "  <tbody>\n",
       "    <tr>\n",
       "      <th>0</th>\n",
       "      <td>120.709668</td>\n",
       "      <td>134.0</td>\n",
       "    </tr>\n",
       "    <tr>\n",
       "      <th>1</th>\n",
       "      <td>117.881664</td>\n",
       "      <td>133.0</td>\n",
       "    </tr>\n",
       "    <tr>\n",
       "      <th>2</th>\n",
       "      <td>116.312901</td>\n",
       "      <td>134.0</td>\n",
       "    </tr>\n",
       "    <tr>\n",
       "      <th>3</th>\n",
       "      <td>116.617734</td>\n",
       "      <td>136.0</td>\n",
       "    </tr>\n",
       "    <tr>\n",
       "      <th>4</th>\n",
       "      <td>118.567315</td>\n",
       "      <td>134.0</td>\n",
       "    </tr>\n",
       "    <tr>\n",
       "      <th>...</th>\n",
       "      <td>...</td>\n",
       "      <td>...</td>\n",
       "    </tr>\n",
       "    <tr>\n",
       "      <th>4349</th>\n",
       "      <td>128.678006</td>\n",
       "      <td>125.0</td>\n",
       "    </tr>\n",
       "    <tr>\n",
       "      <th>4350</th>\n",
       "      <td>119.931631</td>\n",
       "      <td>109.0</td>\n",
       "    </tr>\n",
       "    <tr>\n",
       "      <th>4351</th>\n",
       "      <td>108.430823</td>\n",
       "      <td>103.0</td>\n",
       "    </tr>\n",
       "    <tr>\n",
       "      <th>4352</th>\n",
       "      <td>97.860344</td>\n",
       "      <td>103.0</td>\n",
       "    </tr>\n",
       "    <tr>\n",
       "      <th>4353</th>\n",
       "      <td>90.857752</td>\n",
       "      <td>106.0</td>\n",
       "    </tr>\n",
       "  </tbody>\n",
       "</table>\n",
       "<p>4354 rows × 2 columns</p>\n",
       "</div>"
      ],
      "text/plain": [
       "       predicted   true\n",
       "0     120.709668  134.0\n",
       "1     117.881664  133.0\n",
       "2     116.312901  134.0\n",
       "3     116.617734  136.0\n",
       "4     118.567315  134.0\n",
       "...          ...    ...\n",
       "4349  128.678006  125.0\n",
       "4350  119.931631  109.0\n",
       "4351  108.430823  103.0\n",
       "4352   97.860344  103.0\n",
       "4353   90.857752  106.0\n",
       "\n",
       "[4354 rows x 2 columns]"
      ]
     },
     "execution_count": 18,
     "metadata": {},
     "output_type": "execute_result"
    }
   ],
   "source": [
    "results_df = pd.concat( [pd.DataFrame(predicted, columns=['predicted']), pd.DataFrame(y_train, columns=['true'])], axis=1 )\n",
    "results_df"
   ]
  },
  {
   "cell_type": "code",
   "execution_count": 19,
   "id": "cb8dcf3f",
   "metadata": {},
   "outputs": [
    {
     "data": {
      "text/plain": [
       "<AxesSubplot:>"
      ]
     },
     "execution_count": 19,
     "metadata": {},
     "output_type": "execute_result"
    },
    {
     "data": {
      "image/png": "[encoded data removed]",
      "text/plain": [
       "<Figure size 432x288 with 1 Axes>"
      ]
     },
     "metadata": {
      "needs_background": "light"
     },
     "output_type": "display_data"
    }
   ],
   "source": [
    "results_df.plot()"
   ]
  },
  {
   "cell_type": "code",
   "execution_count": 20,
   "id": "69b4bd02",
   "metadata": {},
   "outputs": [
    {
     "data": {
      "text/html": [
       "<div>\n",
       "<style scoped>\n",
       "    .dataframe tbody tr th:only-of-type {\n",
       "        vertical-align: middle;\n",
       "    }\n",
       "\n",
       "    .dataframe tbody tr th {\n",
       "        vertical-align: top;\n",
       "    }\n",
       "\n",
       "    .dataframe thead th {\n",
       "        text-align: right;\n",
       "    }\n",
       "</style>\n",
       "<table border=\"1\" class=\"dataframe\">\n",
       "  <thead>\n",
       "    <tr style=\"text-align: right;\">\n",
       "      <th></th>\n",
       "      <th>predicted</th>\n",
       "      <th>true</th>\n",
       "    </tr>\n",
       "  </thead>\n",
       "  <tbody>\n",
       "    <tr>\n",
       "      <th>0</th>\n",
       "      <td>107.500627</td>\n",
       "      <td>103.0</td>\n",
       "    </tr>\n",
       "    <tr>\n",
       "      <th>1</th>\n",
       "      <td>101.948092</td>\n",
       "      <td>100.0</td>\n",
       "    </tr>\n",
       "    <tr>\n",
       "      <th>2</th>\n",
       "      <td>96.640139</td>\n",
       "      <td>105.0</td>\n",
       "    </tr>\n",
       "    <tr>\n",
       "      <th>3</th>\n",
       "      <td>94.334544</td>\n",
       "      <td>110.0</td>\n",
       "    </tr>\n",
       "    <tr>\n",
       "      <th>4</th>\n",
       "      <td>96.745901</td>\n",
       "      <td>115.0</td>\n",
       "    </tr>\n",
       "    <tr>\n",
       "      <th>...</th>\n",
       "      <td>...</td>\n",
       "      <td>...</td>\n",
       "    </tr>\n",
       "    <tr>\n",
       "      <th>1066</th>\n",
       "      <td>76.598584</td>\n",
       "      <td>76.0</td>\n",
       "    </tr>\n",
       "    <tr>\n",
       "      <th>1067</th>\n",
       "      <td>74.835866</td>\n",
       "      <td>77.0</td>\n",
       "    </tr>\n",
       "    <tr>\n",
       "      <th>1068</th>\n",
       "      <td>74.126371</td>\n",
       "      <td>75.0</td>\n",
       "    </tr>\n",
       "    <tr>\n",
       "      <th>1069</th>\n",
       "      <td>73.842326</td>\n",
       "      <td>70.0</td>\n",
       "    </tr>\n",
       "    <tr>\n",
       "      <th>1070</th>\n",
       "      <td>70.449720</td>\n",
       "      <td>64.0</td>\n",
       "    </tr>\n",
       "  </tbody>\n",
       "</table>\n",
       "<p>1071 rows × 2 columns</p>\n",
       "</div>"
      ],
      "text/plain": [
       "       predicted   true\n",
       "0     107.500627  103.0\n",
       "1     101.948092  100.0\n",
       "2      96.640139  105.0\n",
       "3      94.334544  110.0\n",
       "4      96.745901  115.0\n",
       "...          ...    ...\n",
       "1066   76.598584   76.0\n",
       "1067   74.835866   77.0\n",
       "1068   74.126371   75.0\n",
       "1069   73.842326   70.0\n",
       "1070   70.449720   64.0\n",
       "\n",
       "[1071 rows x 2 columns]"
      ]
     },
     "execution_count": 20,
     "metadata": {},
     "output_type": "execute_result"
    }
   ],
   "source": [
    "predicted = model.predict(test_generator)\n",
    "predicted = scaler.inverse_transform(predicted)\n",
    "y_test = scaler.inverse_transform(y_test[n_input:])\n",
    "\n",
    "results_df = pd.concat( [pd.DataFrame(predicted, columns=['predicted']), pd.DataFrame(y_test, columns=['true'])], axis=1 )\n",
    "results_df"
   ]
  },
  {
   "cell_type": "code",
   "execution_count": 21,
   "id": "626c7880",
   "metadata": {},
   "outputs": [
    {
     "data": {
      "text/plain": [
       "<AxesSubplot:>"
      ]
     },
     "execution_count": 21,
     "metadata": {},
     "output_type": "execute_result"
    },
    {
     "data": {
      "image/png": "[encoded data removed]",
      "text/plain": [
       "<Figure size 432x288 with 1 Axes>"
      ]
     },
     "metadata": {
      "needs_background": "light"
     },
     "output_type": "display_data"
    }
   ],
   "source": [
    "results_df.plot()"
   ]
  },
  {
   "cell_type": "code",
   "execution_count": 22,
   "id": "bf619dc0",
   "metadata": {},
   "outputs": [
    {
     "name": "stdout",
     "output_type": "stream",
     "text": [
      "0.8187840303063451\n",
      "154.21969957669654\n"
     ]
    }
   ],
   "source": [
    "print(r2_score(predicted, y_test))\n",
    "print(mean_squared_error(predicted, y_test))"
   ]
  },
  {
   "cell_type": "code",
   "execution_count": null,
   "id": "639dbe08",
   "metadata": {},
   "outputs": [],
   "source": []
  },
  {
   "cell_type": "code",
   "execution_count": null,
   "id": "12aecbd7",
   "metadata": {},
   "outputs": [],
   "source": []
  }
 ],
 "metadata": {
  "kernelspec": {
   "display_name": "Python 3 (ipykernel)",
   "language": "python",
   "name": "python3"
  },
  "language_info": {
   "codemirror_mode": {
    "name": "ipython",
    "version": 3
   },
   "file_extension": ".py",
   "mimetype": "text/x-python",
   "name": "python",
   "nbconvert_exporter": "python",
   "pygments_lexer": "ipython3",
   "version": "3.9.7"
  }
 },
 "nbformat": 4,
 "nbformat_minor": 5
}
