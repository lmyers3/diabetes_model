{
 "cells": [
  {
   "cell_type": "code",
   "execution_count": 1,
   "id": "2edd7303",
   "metadata": {},
   "outputs": [
    {
     "data": {
      "text/plain": [
       "'2.6.0'"
      ]
     },
     "execution_count": 1,
     "metadata": {},
     "output_type": "execute_result"
    }
   ],
   "source": [
    "import tensorflow as tf\n",
    "from tensorflow import keras\n",
    "from tensorflow.keras import layers\n",
    "\n",
    "from keras.preprocessing.sequence import TimeseriesGenerator\n",
    "\n",
    "tf.__version__"
   ]
  },
  {
   "cell_type": "code",
   "execution_count": 2,
   "id": "57c7e3da",
   "metadata": {},
   "outputs": [],
   "source": [
    "import pandas as pd\n",
    "import numpy as np\n",
    "\n",
    "import matplotlib.pyplot as plt\n",
    "\n",
    "from sklearn.model_selection import train_test_split\n",
    "from sklearn.metrics import mean_squared_error\n",
    "from sklearn.metrics import r2_score\n",
    "from sklearn.preprocessing import StandardScaler, MinMaxScaler"
   ]
  },
  {
   "cell_type": "code",
   "execution_count": 3,
   "id": "b1549bcf",
   "metadata": {},
   "outputs": [],
   "source": [
    "#PREPROCESS DATA\n",
    "df = pd.read_csv('clean_data.csv')\n",
    "df = df.drop(['Unnamed: 0', 'BS_trend', 'date', 'hour', 'minute', 'weekday'], axis='columns')\n",
    "\n",
    "#df = pd.get_dummies(df, columns=['weekday'])"
   ]
  },
  {
   "cell_type": "code",
   "execution_count": 4,
   "id": "bca2afb4",
   "metadata": {},
   "outputs": [],
   "source": [
    "#scale data\n",
    "scaler = MinMaxScaler()\n",
    "\n",
    "df_scaled = scaler.fit_transform(df)"
   ]
  },
  {
   "cell_type": "code",
   "execution_count": 5,
   "id": "e2cf613a",
   "metadata": {},
   "outputs": [
    {
     "data": {
      "text/plain": [
       "(3831, 13)"
      ]
     },
     "execution_count": 5,
     "metadata": {},
     "output_type": "execute_result"
    }
   ],
   "source": [
    "X = df_scaled\n",
    "y = scaler.fit_transform(df['BS'].values.reshape(-1,1))\n",
    "\n",
    "X_train, X_test, y_train, y_test = train_test_split(X, y, test_size=0.3, shuffle=False)\n",
    "\n",
    "X_train.shape"
   ]
  },
  {
   "cell_type": "code",
   "execution_count": 6,
   "id": "bbbdaef0",
   "metadata": {},
   "outputs": [],
   "source": [
    "#remove records from data to create tensors\n",
    "#X_train_minmax = X_train_minmax[:len(X_train_minmax)-10]\n",
    "#y_train = y_train[:len(X_train_minmax)]"
   ]
  },
  {
   "cell_type": "code",
   "execution_count": 7,
   "id": "1672acdb",
   "metadata": {},
   "outputs": [],
   "source": [
    "#X_train_minmax = X_train_minmax.reshape(364, 12, 19)\n",
    "#X_test_minmax = X_test_minmax.reshape(182,24,19)"
   ]
  },
  {
   "cell_type": "code",
   "execution_count": 8,
   "id": "a29a2a2a",
   "metadata": {},
   "outputs": [],
   "source": [
    "n_input = 24\n",
    "n_features = 13\n",
    "train_generator = TimeseriesGenerator(X_train, y_train,sampling_rate=1, length=n_input, batch_size=32)\n",
    "test_generator = TimeseriesGenerator(X_test, y_test,sampling_rate=1, length=n_input, batch_size=32)\n",
    "\n",
    "# print(len(generator))\n",
    "# batch_0 = generator[3]\n",
    "# x, y = batch_0\n",
    "\n",
    "# print(\"THIS IS X\")\n",
    "# print(x[0])\n",
    "# print(\"THIS IS Y\")\n",
    "# print(y)\n"
   ]
  },
  {
   "cell_type": "code",
   "execution_count": 9,
   "id": "51c4caa5",
   "metadata": {},
   "outputs": [],
   "source": [
    "\n",
    "\n",
    "model = tf.keras.Sequential(\n",
    "    [\n",
    "        layers.Masking(mask_value=0.,\n",
    "                       input_shape=(n_input, n_features)),\n",
    "        layers.LSTM(100, \n",
    "            activation='relu',\n",
    "            dropout=0.1,\n",
    "            recurrent_dropout=0.5,\n",
    "            return_sequences=True),\n",
    "        layers.LSTM(100, \n",
    "            activation='relu',\n",
    "            dropout=0.1,\n",
    "            recurrent_dropout=0.5,\n",
    "            return_sequences=True),\n",
    "        layers.LSTM(75,\n",
    "            activation='relu',\n",
    "            dropout=0.1,\n",
    "            recurrent_dropout=0.5,\n",
    "            return_sequences=True),\n",
    "        layers.LSTM(25,\n",
    "            activation='relu',\n",
    "            dropout=0.1,\n",
    "            recurrent_dropout=0.5,\n",
    "            return_sequences=False),\n",
    "        layers.Dense(1, activation='relu', dtype='float64')\n",
    "    ]\n",
    ")\n",
    "\n"
   ]
  },
  {
   "cell_type": "code",
   "execution_count": 10,
   "id": "18129b12",
   "metadata": {},
   "outputs": [],
   "source": [
    "early_stopping = tf.keras.callbacks.EarlyStopping(monitor='val_loss',\n",
    "                                                  patience=2,\n",
    "                                                  mode='min')\n",
    "model.compile(loss='mae', optimizer='adam')\n",
    "#model(X_train_minmax)\n",
    "#model.summary()"
   ]
  },
  {
   "cell_type": "code",
   "execution_count": 11,
   "id": "fe225aca",
   "metadata": {},
   "outputs": [
    {
     "name": "stdout",
     "output_type": "stream",
     "text": [
      "Epoch 1/50\n",
      "119/119 [==============================] - 27s 124ms/step - loss: 0.1438 - val_loss: 0.0886\n",
      "Epoch 2/50\n",
      "119/119 [==============================] - 13s 112ms/step - loss: 0.1051 - val_loss: 0.0877\n",
      "Epoch 3/50\n",
      "119/119 [==============================] - 13s 112ms/step - loss: 0.0985 - val_loss: 0.0825\n",
      "Epoch 4/50\n",
      "119/119 [==============================] - 13s 112ms/step - loss: 0.0909 - val_loss: 0.0759\n",
      "Epoch 5/50\n",
      "119/119 [==============================] - 13s 111ms/step - loss: 0.0838 - val_loss: 0.0824\n",
      "Epoch 6/50\n",
      "119/119 [==============================] - 13s 111ms/step - loss: 0.0762 - val_loss: 0.0692\n",
      "Epoch 7/50\n",
      "119/119 [==============================] - 13s 113ms/step - loss: 0.0719 - val_loss: 0.0791\n",
      "Epoch 8/50\n",
      "119/119 [==============================] - 13s 113ms/step - loss: 0.0647 - val_loss: 0.0804\n",
      "Epoch 9/50\n",
      "119/119 [==============================] - 13s 113ms/step - loss: 0.0587 - val_loss: 0.0724\n",
      "Epoch 10/50\n",
      "119/119 [==============================] - 13s 113ms/step - loss: 0.0552 - val_loss: 0.0555\n",
      "Epoch 11/50\n",
      "119/119 [==============================] - 13s 112ms/step - loss: 0.0547 - val_loss: 0.0622\n",
      "Epoch 12/50\n",
      "119/119 [==============================] - 13s 112ms/step - loss: 0.0516 - val_loss: 0.0659\n",
      "Epoch 13/50\n",
      "119/119 [==============================] - 13s 112ms/step - loss: 0.0497 - val_loss: 0.0498\n",
      "Epoch 14/50\n",
      "119/119 [==============================] - 13s 112ms/step - loss: 0.0484 - val_loss: 0.0572\n",
      "Epoch 15/50\n",
      "119/119 [==============================] - 13s 112ms/step - loss: 0.0484 - val_loss: 0.0556\n",
      "Epoch 16/50\n",
      "119/119 [==============================] - 13s 112ms/step - loss: 0.0462 - val_loss: 0.0531\n",
      "Epoch 17/50\n",
      "119/119 [==============================] - 13s 113ms/step - loss: 0.0464 - val_loss: 0.0625\n",
      "Epoch 18/50\n",
      "119/119 [==============================] - 13s 113ms/step - loss: 0.0438 - val_loss: 0.0427\n",
      "Epoch 19/50\n",
      "119/119 [==============================] - 13s 112ms/step - loss: 0.0424 - val_loss: 0.0454\n",
      "Epoch 20/50\n",
      "119/119 [==============================] - 13s 113ms/step - loss: 0.0444 - val_loss: 0.0731\n",
      "Epoch 21/50\n",
      "119/119 [==============================] - 13s 112ms/step - loss: 0.0408 - val_loss: 0.0433\n",
      "Epoch 22/50\n",
      "119/119 [==============================] - 13s 113ms/step - loss: 0.0398 - val_loss: 0.0576\n",
      "Epoch 23/50\n",
      "119/119 [==============================] - 13s 113ms/step - loss: 0.0421 - val_loss: 0.0552\n",
      "Epoch 24/50\n",
      "119/119 [==============================] - 13s 113ms/step - loss: 0.0382 - val_loss: 0.0618\n",
      "Epoch 25/50\n",
      "119/119 [==============================] - 13s 113ms/step - loss: 0.0397 - val_loss: 0.0597\n",
      "Epoch 26/50\n",
      "119/119 [==============================] - 13s 113ms/step - loss: 0.0373 - val_loss: 0.0487\n",
      "Epoch 27/50\n",
      "119/119 [==============================] - 13s 113ms/step - loss: 0.0390 - val_loss: 0.0498\n",
      "Epoch 28/50\n",
      "119/119 [==============================] - 13s 113ms/step - loss: 0.0360 - val_loss: 0.0389\n",
      "Epoch 29/50\n",
      "119/119 [==============================] - 13s 113ms/step - loss: 0.0376 - val_loss: 0.0433\n",
      "Epoch 30/50\n",
      "119/119 [==============================] - 14s 114ms/step - loss: 0.0349 - val_loss: 0.0403\n",
      "Epoch 31/50\n",
      "119/119 [==============================] - 15s 125ms/step - loss: 0.0359 - val_loss: 0.0441\n",
      "Epoch 32/50\n",
      "119/119 [==============================] - 14s 116ms/step - loss: 0.0347 - val_loss: 0.0435\n",
      "Epoch 33/50\n",
      "119/119 [==============================] - 14s 115ms/step - loss: 0.0334 - val_loss: 0.0504\n",
      "Epoch 34/50\n",
      "119/119 [==============================] - 14s 120ms/step - loss: 0.0379 - val_loss: 0.0413\n",
      "Epoch 35/50\n",
      "119/119 [==============================] - 14s 114ms/step - loss: 0.0341 - val_loss: 0.0465\n",
      "Epoch 36/50\n",
      "119/119 [==============================] - 14s 115ms/step - loss: 0.0341 - val_loss: 0.0396\n",
      "Epoch 37/50\n",
      "119/119 [==============================] - 14s 114ms/step - loss: 0.0317 - val_loss: 0.0430\n",
      "Epoch 38/50\n",
      "119/119 [==============================] - 13s 113ms/step - loss: 0.0350 - val_loss: 0.0494\n",
      "Epoch 39/50\n",
      "119/119 [==============================] - 14s 114ms/step - loss: 0.0325 - val_loss: 0.0562\n",
      "Epoch 40/50\n",
      "119/119 [==============================] - 14s 114ms/step - loss: 0.0324 - val_loss: 0.0537\n",
      "Epoch 41/50\n",
      "119/119 [==============================] - 14s 114ms/step - loss: 0.0327 - val_loss: 0.0420\n",
      "Epoch 42/50\n",
      "119/119 [==============================] - 14s 114ms/step - loss: 0.0323 - val_loss: 0.0625\n",
      "Epoch 43/50\n",
      "119/119 [==============================] - 14s 114ms/step - loss: 0.0334 - val_loss: 0.0489\n",
      "Epoch 44/50\n",
      "119/119 [==============================] - 14s 114ms/step - loss: 0.0323 - val_loss: 0.0602\n",
      "Epoch 45/50\n",
      "119/119 [==============================] - 14s 115ms/step - loss: 0.0328 - val_loss: 0.0432\n",
      "Epoch 46/50\n",
      "119/119 [==============================] - 13s 113ms/step - loss: 0.0295 - val_loss: 0.0427\n",
      "Epoch 47/50\n",
      "119/119 [==============================] - 13s 113ms/step - loss: 0.0305 - val_loss: 0.0500\n",
      "Epoch 48/50\n",
      "119/119 [==============================] - 13s 113ms/step - loss: 0.0309 - val_loss: 0.0450\n",
      "Epoch 49/50\n",
      "119/119 [==============================] - 14s 115ms/step - loss: 0.0314 - val_loss: 0.0499\n",
      "Epoch 50/50\n",
      "119/119 [==============================] - 14s 117ms/step - loss: 0.0290 - val_loss: 0.0511\n"
     ]
    }
   ],
   "source": [
    "#history = model.fit(x=X_train_minmax,y=y_train, shuffle=False, epochs=200, batch_size=24, validation_split=0.2)\n",
    "history = model.fit(train_generator, validation_data=test_generator, epochs=50, shuffle=False, batch_size=32)\n",
    "#history = model.fit(x=generator, shuffle=False, epochs=200, batch_size=32)"
   ]
  },
  {
   "cell_type": "code",
   "execution_count": 12,
   "id": "ea62910c",
   "metadata": {},
   "outputs": [
    {
     "data": {
      "text/plain": [
       "3807"
      ]
     },
     "execution_count": 12,
     "metadata": {},
     "output_type": "execute_result"
    }
   ],
   "source": [
    "predicted = model.predict(train_generator)\n",
    "predicted = scaler.inverse_transform(predicted)\n",
    "\n",
    "predicted.shape[0]"
   ]
  },
  {
   "cell_type": "code",
   "execution_count": 13,
   "id": "c4b690a3",
   "metadata": {},
   "outputs": [
    {
     "data": {
      "text/plain": [
       "(3807, 1)"
      ]
     },
     "execution_count": 13,
     "metadata": {},
     "output_type": "execute_result"
    }
   ],
   "source": [
    "predicted.shape"
   ]
  },
  {
   "cell_type": "code",
   "execution_count": 14,
   "id": "97e37a87",
   "metadata": {},
   "outputs": [
    {
     "data": {
      "text/plain": [
       "(3807, 1)"
      ]
     },
     "execution_count": 14,
     "metadata": {},
     "output_type": "execute_result"
    }
   ],
   "source": [
    "y_train = scaler.inverse_transform(y_train)\n",
    "y_train = y_train[n_input:]\n",
    "y_train.shape\n"
   ]
  },
  {
   "cell_type": "code",
   "execution_count": 15,
   "id": "a844fa32",
   "metadata": {},
   "outputs": [
    {
     "data": {
      "text/plain": [
       "0.8341123928972137"
      ]
     },
     "execution_count": 15,
     "metadata": {},
     "output_type": "execute_result"
    }
   ],
   "source": [
    "r2_score(y_train, predicted)"
   ]
  },
  {
   "cell_type": "code",
   "execution_count": 16,
   "id": "520a1946",
   "metadata": {},
   "outputs": [
    {
     "data": {
      "text/plain": [
       "281.444440290438"
      ]
     },
     "execution_count": 16,
     "metadata": {},
     "output_type": "execute_result"
    }
   ],
   "source": [
    "mean_squared_error(y_train, predicted)"
   ]
  },
  {
   "cell_type": "code",
   "execution_count": 17,
   "id": "71f71bc4",
   "metadata": {},
   "outputs": [
    {
     "data": {
      "text/plain": [
       "<matplotlib.legend.Legend at 0x2204b964340>"
      ]
     },
     "execution_count": 17,
     "metadata": {},
     "output_type": "execute_result"
    },
    {
     "data": {
      "image/png": "[encoded data removed]",
      "text/plain": [
       "<Figure size 432x288 with 1 Axes>"
      ]
     },
     "metadata": {
      "needs_background": "light"
     },
     "output_type": "display_data"
    }
   ],
   "source": [
    "plt.plot(history.history['loss'], label='loss')\n",
    "plt.plot(history.history['val_loss'], label='val_loss')\n",
    "plt.legend()"
   ]
  },
  {
   "cell_type": "code",
   "execution_count": 18,
   "id": "ed1bd347",
   "metadata": {},
   "outputs": [
    {
     "data": {
      "text/html": [
       "<div>\n",
       "<style scoped>\n",
       "    .dataframe tbody tr th:only-of-type {\n",
       "        vertical-align: middle;\n",
       "    }\n",
       "\n",
       "    .dataframe tbody tr th {\n",
       "        vertical-align: top;\n",
       "    }\n",
       "\n",
       "    .dataframe thead th {\n",
       "        text-align: right;\n",
       "    }\n",
       "</style>\n",
       "<table border=\"1\" class=\"dataframe\">\n",
       "  <thead>\n",
       "    <tr style=\"text-align: right;\">\n",
       "      <th></th>\n",
       "      <th>predicted</th>\n",
       "      <th>true</th>\n",
       "    </tr>\n",
       "  </thead>\n",
       "  <tbody>\n",
       "    <tr>\n",
       "      <th>0</th>\n",
       "      <td>121.469777</td>\n",
       "      <td>134.0</td>\n",
       "    </tr>\n",
       "    <tr>\n",
       "      <th>1</th>\n",
       "      <td>118.578736</td>\n",
       "      <td>133.0</td>\n",
       "    </tr>\n",
       "    <tr>\n",
       "      <th>2</th>\n",
       "      <td>116.927359</td>\n",
       "      <td>134.0</td>\n",
       "    </tr>\n",
       "    <tr>\n",
       "      <th>3</th>\n",
       "      <td>117.351047</td>\n",
       "      <td>136.0</td>\n",
       "    </tr>\n",
       "    <tr>\n",
       "      <th>4</th>\n",
       "      <td>119.442839</td>\n",
       "      <td>134.0</td>\n",
       "    </tr>\n",
       "    <tr>\n",
       "      <th>...</th>\n",
       "      <td>...</td>\n",
       "      <td>...</td>\n",
       "    </tr>\n",
       "    <tr>\n",
       "      <th>3802</th>\n",
       "      <td>80.782794</td>\n",
       "      <td>87.0</td>\n",
       "    </tr>\n",
       "    <tr>\n",
       "      <th>3803</th>\n",
       "      <td>79.782140</td>\n",
       "      <td>85.0</td>\n",
       "    </tr>\n",
       "    <tr>\n",
       "      <th>3804</th>\n",
       "      <td>77.787375</td>\n",
       "      <td>83.0</td>\n",
       "    </tr>\n",
       "    <tr>\n",
       "      <th>3805</th>\n",
       "      <td>75.659190</td>\n",
       "      <td>79.0</td>\n",
       "    </tr>\n",
       "    <tr>\n",
       "      <th>3806</th>\n",
       "      <td>73.733291</td>\n",
       "      <td>75.0</td>\n",
       "    </tr>\n",
       "  </tbody>\n",
       "</table>\n",
       "<p>3807 rows × 2 columns</p>\n",
       "</div>"
      ],
      "text/plain": [
       "       predicted   true\n",
       "0     121.469777  134.0\n",
       "1     118.578736  133.0\n",
       "2     116.927359  134.0\n",
       "3     117.351047  136.0\n",
       "4     119.442839  134.0\n",
       "...          ...    ...\n",
       "3802   80.782794   87.0\n",
       "3803   79.782140   85.0\n",
       "3804   77.787375   83.0\n",
       "3805   75.659190   79.0\n",
       "3806   73.733291   75.0\n",
       "\n",
       "[3807 rows x 2 columns]"
      ]
     },
     "execution_count": 18,
     "metadata": {},
     "output_type": "execute_result"
    }
   ],
   "source": [
    "results_df = pd.concat( [pd.DataFrame(predicted, columns=['predicted']), pd.DataFrame(y_train, columns=['true'])], axis=1 )\n",
    "results_df"
   ]
  },
  {
   "cell_type": "code",
   "execution_count": 19,
   "id": "cb8dcf3f",
   "metadata": {},
   "outputs": [
    {
     "data": {
      "text/plain": [
       "<AxesSubplot:>"
      ]
     },
     "execution_count": 19,
     "metadata": {},
     "output_type": "execute_result"
    },
    {
     "data": {
      "image/png": "[encoded data removed]",
      "text/plain": [
       "<Figure size 432x288 with 1 Axes>"
      ]
     },
     "metadata": {
      "needs_background": "light"
     },
     "output_type": "display_data"
    }
   ],
   "source": [
    "results_df.plot()"
   ]
  },
  {
   "cell_type": "code",
   "execution_count": 20,
   "id": "69b4bd02",
   "metadata": {},
   "outputs": [
    {
     "data": {
      "text/html": [
       "<div>\n",
       "<style scoped>\n",
       "    .dataframe tbody tr th:only-of-type {\n",
       "        vertical-align: middle;\n",
       "    }\n",
       "\n",
       "    .dataframe tbody tr th {\n",
       "        vertical-align: top;\n",
       "    }\n",
       "\n",
       "    .dataframe thead th {\n",
       "        text-align: right;\n",
       "    }\n",
       "</style>\n",
       "<table border=\"1\" class=\"dataframe\">\n",
       "  <thead>\n",
       "    <tr style=\"text-align: right;\">\n",
       "      <th></th>\n",
       "      <th>predicted</th>\n",
       "      <th>true</th>\n",
       "    </tr>\n",
       "  </thead>\n",
       "  <tbody>\n",
       "    <tr>\n",
       "      <th>0</th>\n",
       "      <td>69.471487</td>\n",
       "      <td>76.0</td>\n",
       "    </tr>\n",
       "    <tr>\n",
       "      <th>1</th>\n",
       "      <td>69.086084</td>\n",
       "      <td>76.0</td>\n",
       "    </tr>\n",
       "    <tr>\n",
       "      <th>2</th>\n",
       "      <td>68.872704</td>\n",
       "      <td>75.0</td>\n",
       "    </tr>\n",
       "    <tr>\n",
       "      <th>3</th>\n",
       "      <td>68.661379</td>\n",
       "      <td>74.0</td>\n",
       "    </tr>\n",
       "    <tr>\n",
       "      <th>4</th>\n",
       "      <td>68.408062</td>\n",
       "      <td>71.0</td>\n",
       "    </tr>\n",
       "    <tr>\n",
       "      <th>...</th>\n",
       "      <td>...</td>\n",
       "      <td>...</td>\n",
       "    </tr>\n",
       "    <tr>\n",
       "      <th>1613</th>\n",
       "      <td>72.336351</td>\n",
       "      <td>76.0</td>\n",
       "    </tr>\n",
       "    <tr>\n",
       "      <th>1614</th>\n",
       "      <td>70.967066</td>\n",
       "      <td>77.0</td>\n",
       "    </tr>\n",
       "    <tr>\n",
       "      <th>1615</th>\n",
       "      <td>70.100352</td>\n",
       "      <td>75.0</td>\n",
       "    </tr>\n",
       "    <tr>\n",
       "      <th>1616</th>\n",
       "      <td>69.510201</td>\n",
       "      <td>70.0</td>\n",
       "    </tr>\n",
       "    <tr>\n",
       "      <th>1617</th>\n",
       "      <td>65.982336</td>\n",
       "      <td>64.0</td>\n",
       "    </tr>\n",
       "  </tbody>\n",
       "</table>\n",
       "<p>1618 rows × 2 columns</p>\n",
       "</div>"
      ],
      "text/plain": [
       "      predicted  true\n",
       "0     69.471487  76.0\n",
       "1     69.086084  76.0\n",
       "2     68.872704  75.0\n",
       "3     68.661379  74.0\n",
       "4     68.408062  71.0\n",
       "...         ...   ...\n",
       "1613  72.336351  76.0\n",
       "1614  70.967066  77.0\n",
       "1615  70.100352  75.0\n",
       "1616  69.510201  70.0\n",
       "1617  65.982336  64.0\n",
       "\n",
       "[1618 rows x 2 columns]"
      ]
     },
     "execution_count": 20,
     "metadata": {},
     "output_type": "execute_result"
    }
   ],
   "source": [
    "predicted = model.predict(test_generator)\n",
    "predicted = scaler.inverse_transform(predicted)\n",
    "y_test = scaler.inverse_transform(y_test[n_input:])\n",
    "\n",
    "results_df = pd.concat( [pd.DataFrame(predicted, columns=['predicted']), pd.DataFrame(y_test, columns=['true'])], axis=1 )\n",
    "results_df"
   ]
  },
  {
   "cell_type": "code",
   "execution_count": 21,
   "id": "626c7880",
   "metadata": {},
   "outputs": [
    {
     "data": {
      "text/plain": [
       "<AxesSubplot:>"
      ]
     },
     "execution_count": 21,
     "metadata": {},
     "output_type": "execute_result"
    },
    {
     "data": {
      "image/png": "[encoded data removed]",
      "text/plain": [
       "<Figure size 432x288 with 1 Axes>"
      ]
     },
     "metadata": {
      "needs_background": "light"
     },
     "output_type": "display_data"
    }
   ],
   "source": [
    "results_df.plot()"
   ]
  },
  {
   "cell_type": "code",
   "execution_count": 22,
   "id": "bf619dc0",
   "metadata": {},
   "outputs": [
    {
     "name": "stdout",
     "output_type": "stream",
     "text": [
      "0.7133089718354669\n",
      "258.7312256627082\n"
     ]
    }
   ],
   "source": [
    "print(r2_score(predicted, y_test))\n",
    "print(mean_squared_error(predicted, y_test))"
   ]
  },
  {
   "cell_type": "code",
   "execution_count": null,
   "id": "639dbe08",
   "metadata": {},
   "outputs": [],
   "source": []
  },
  {
   "cell_type": "code",
   "execution_count": null,
   "id": "12aecbd7",
   "metadata": {},
   "outputs": [],
   "source": []
  }
 ],
 "metadata": {
  "kernelspec": {
   "display_name": "Python 3 (ipykernel)",
   "language": "python",
   "name": "python3"
  },
  "language_info": {
   "codemirror_mode": {
    "name": "ipython",
    "version": 3
   },
   "file_extension": ".py",
   "mimetype": "text/x-python",
   "name": "python",
   "nbconvert_exporter": "python",
   "pygments_lexer": "ipython3",
   "version": "3.9.7"
  }
 },
 "nbformat": 4,
 "nbformat_minor": 5
}
