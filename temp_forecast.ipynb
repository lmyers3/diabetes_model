{
 "cells": [
  {
   "cell_type": "code",
   "execution_count": 1,
   "id": "fe0d84d3",
   "metadata": {},
   "outputs": [],
   "source": [
    "import numpy as np"
   ]
  },
  {
   "cell_type": "code",
   "execution_count": 2,
   "id": "34d390c6",
   "metadata": {},
   "outputs": [
    {
     "name": "stdout",
     "output_type": "stream",
     "text": [
      "['\"Date Time\"', '\"p (mbar)\"', '\"T (degC)\"', '\"Tpot (K)\"', '\"Tdew (degC)\"', '\"rh (%)\"', '\"VPmax (mbar)\"', '\"VPact (mbar)\"', '\"VPdef (mbar)\"', '\"sh (g/kg)\"', '\"H2OC (mmol/mol)\"', '\"rho (g/m**3)\"', '\"wv (m/s)\"', '\"max. wv (m/s)\"', '\"wd (deg)\"']\n",
      "420451\n"
     ]
    }
   ],
   "source": [
    "\n",
    "fname = 'jena_climate/jena_climate_2009_2016.csv'\n",
    "f = open(fname)\n",
    "data = f.read()\n",
    "f.close()\n",
    "lines = data.split('\\n')\n",
    "header = lines[0].split(',')\n",
    "lines = lines[1:]\n",
    "print(header)\n",
    "print(len(lines))"
   ]
  },
  {
   "cell_type": "code",
   "execution_count": 3,
   "id": "22fe629b",
   "metadata": {},
   "outputs": [],
   "source": [
    "float_data = np.zeros((len(lines), len(header) - 1))\n",
    "for i, line in enumerate(lines):\n",
    "    values = [float(x) for x in line.split(',')[1:]]\n",
    "    float_data[i, :] = values"
   ]
  },
  {
   "cell_type": "code",
   "execution_count": 4,
   "id": "915420a7",
   "metadata": {},
   "outputs": [
    {
     "data": {
      "text/plain": [
       "array([[ 9.96520e+02, -8.02000e+00,  2.65400e+02, -8.90000e+00,\n",
       "         9.33000e+01,  3.33000e+00,  3.11000e+00,  2.20000e-01,\n",
       "         1.94000e+00,  3.12000e+00,  1.30775e+03,  1.03000e+00,\n",
       "         1.75000e+00,  1.52300e+02],\n",
       "       [ 9.96570e+02, -8.41000e+00,  2.65010e+02, -9.28000e+00,\n",
       "         9.34000e+01,  3.23000e+00,  3.02000e+00,  2.10000e-01,\n",
       "         1.89000e+00,  3.03000e+00,  1.30980e+03,  7.20000e-01,\n",
       "         1.50000e+00,  1.36100e+02],\n",
       "       [ 9.96530e+02, -8.51000e+00,  2.64910e+02, -9.31000e+00,\n",
       "         9.39000e+01,  3.21000e+00,  3.01000e+00,  2.00000e-01,\n",
       "         1.88000e+00,  3.02000e+00,  1.31024e+03,  1.90000e-01,\n",
       "         6.30000e-01,  1.71600e+02],\n",
       "       [ 9.96510e+02, -8.31000e+00,  2.65120e+02, -9.07000e+00,\n",
       "         9.42000e+01,  3.26000e+00,  3.07000e+00,  1.90000e-01,\n",
       "         1.92000e+00,  3.08000e+00,  1.30919e+03,  3.40000e-01,\n",
       "         5.00000e-01,  1.98000e+02],\n",
       "       [ 9.96510e+02, -8.27000e+00,  2.65150e+02, -9.04000e+00,\n",
       "         9.41000e+01,  3.27000e+00,  3.08000e+00,  1.90000e-01,\n",
       "         1.92000e+00,  3.09000e+00,  1.30900e+03,  3.20000e-01,\n",
       "         6.30000e-01,  2.14300e+02],\n",
       "       [ 9.96500e+02, -8.05000e+00,  2.65380e+02, -8.78000e+00,\n",
       "         9.44000e+01,  3.33000e+00,  3.14000e+00,  1.90000e-01,\n",
       "         1.96000e+00,  3.15000e+00,  1.30786e+03,  2.10000e-01,\n",
       "         6.30000e-01,  1.92700e+02],\n",
       "       [ 9.96500e+02, -7.62000e+00,  2.65810e+02, -8.30000e+00,\n",
       "         9.48000e+01,  3.44000e+00,  3.26000e+00,  1.80000e-01,\n",
       "         2.04000e+00,  3.27000e+00,  1.30568e+03,  1.80000e-01,\n",
       "         6.30000e-01,  1.66500e+02],\n",
       "       [ 9.96500e+02, -7.62000e+00,  2.65810e+02, -8.36000e+00,\n",
       "         9.44000e+01,  3.44000e+00,  3.25000e+00,  1.90000e-01,\n",
       "         2.03000e+00,  3.26000e+00,  1.30569e+03,  1.90000e-01,\n",
       "         5.00000e-01,  1.18600e+02],\n",
       "       [ 9.96500e+02, -7.91000e+00,  2.65520e+02, -8.73000e+00,\n",
       "         9.38000e+01,  3.36000e+00,  3.15000e+00,  2.10000e-01,\n",
       "         1.97000e+00,  3.16000e+00,  1.30717e+03,  2.80000e-01,\n",
       "         7.50000e-01,  1.88500e+02],\n",
       "       [ 9.96530e+02, -8.43000e+00,  2.64990e+02, -9.34000e+00,\n",
       "         9.31000e+01,  3.23000e+00,  3.00000e+00,  2.20000e-01,\n",
       "         1.88000e+00,  3.02000e+00,  1.30985e+03,  5.90000e-01,\n",
       "         8.80000e-01,  1.85000e+02]])"
      ]
     },
     "execution_count": 4,
     "metadata": {},
     "output_type": "execute_result"
    }
   ],
   "source": [
    "float_data[0:10, :]"
   ]
  },
  {
   "cell_type": "code",
   "execution_count": 5,
   "id": "d6806e47",
   "metadata": {},
   "outputs": [
    {
     "ename": "IndentationError",
     "evalue": "expected an indented block (Temp/ipykernel_18340/1709485791.py, line 12)",
     "output_type": "error",
     "traceback": [
      "\u001b[1;36m  File \u001b[1;32m\"C:\\Users\\lmyer\\AppData\\Local\\Temp/ipykernel_18340/1709485791.py\"\u001b[1;36m, line \u001b[1;32m12\u001b[0m\n\u001b[1;33m    i = min_index + lookback\u001b[0m\n\u001b[1;37m    ^\u001b[0m\n\u001b[1;31mIndentationError\u001b[0m\u001b[1;31m:\u001b[0m expected an indented block\n"
     ]
    }
   ],
   "source": [
    "def generator(data, lookback, delay, min_index, max_index, shuffle=False, batch_size=128, step=6):\n",
    "    i = min_index + lookback\n",
    "    if max_index is None: \n",
    "        max_index = len(data) - delay - 1\n",
    "    \n",
    "    while 1:\n",
    "        if shuffle:\n",
    "            rows = np.random.randint(\n",
    "            min_index + lookback, max_index, size=batch_size)\n",
    "        else:\n",
    "            if i + batch_size >= max_index:\n",
    "            i = min_index + lookback\n",
    "            rows = np.arange(i, min(i + batch_size, max_index))\n",
    "            i += len(rows)\n",
    "        samples = np.zeros((len(rows),\n",
    "            lookback // step,\n",
    "            data.shape[-1]))\n",
    "        targets = np.zeros((len(rows),))\n",
    "        for j, row in enumerate(rows):\n",
    "            indices = range(rows[j] - lookback, rows[j], step)\n",
    "            samples[j] = data[indices]\n",
    "            targets[j] = data[rows[j] + delay][1]\n",
    "        yield samples, targets"
   ]
  },
  {
   "cell_type": "code",
   "execution_count": null,
   "id": "0d1ff3e9",
   "metadata": {},
   "outputs": [],
   "source": []
  },
  {
   "cell_type": "code",
   "execution_count": null,
   "id": "d011232e",
   "metadata": {},
   "outputs": [],
   "source": []
  },
  {
   "cell_type": "code",
   "execution_count": null,
   "id": "1be1c0e1",
   "metadata": {},
   "outputs": [],
   "source": []
  },
  {
   "cell_type": "code",
   "execution_count": null,
   "id": "c78cd71b",
   "metadata": {},
   "outputs": [],
   "source": []
  },
  {
   "cell_type": "code",
   "execution_count": null,
   "id": "e60a71df",
   "metadata": {},
   "outputs": [],
   "source": []
  }
 ],
 "metadata": {
  "kernelspec": {
   "display_name": "Python 3 (ipykernel)",
   "language": "python",
   "name": "python3"
  },
  "language_info": {
   "codemirror_mode": {
    "name": "ipython",
    "version": 3
   },
   "file_extension": ".py",
   "mimetype": "text/x-python",
   "name": "python",
   "nbconvert_exporter": "python",
   "pygments_lexer": "ipython3",
   "version": "3.9.7"
  }
 },
 "nbformat": 4,
 "nbformat_minor": 5
}
